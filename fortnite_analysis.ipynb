{
 "cells": [
  {
   "cell_type": "markdown",
   "metadata": {},
   "source": [
    "# Fortnite Heart Rate (HR) and Heart Rate Variability (HRV) Analysis"
   ]
  },
  {
   "cell_type": "markdown",
   "metadata": {},
   "source": [
    "### Introduction\n",
    "\n",
    "Fortnite is a free game created by Epic Games that has a 100-player PvP mode. This mode is essentially last man standing. As the number of players alive in the game decrease, nerves and fear tend to build up (unless you're a pro at this game and know what you're doing). I intend on measuring this fear via a heart rate monitor through two features - heart rate (HR) and heart rate variability (HRV).\n",
    "\n",
    "#### Heart Rate Sensor\n",
    "\n",
    "The Polar H7 is a Heart Rate Sensor (chest strap) that uses Bluetooth Low Energy (BLE) for communication. It is a strap that contains two electrodes, allowing it to measure the electrical activity of the heart to deliver continuous heart rate data.\n",
    "\n",
    "#### Bluetooth Low Energy\n",
    "\n",
    "The Python BLE Wrapper noted in the README is used to receive the Bluetooth packets. BLE contains GATT (Generic Attribute) Services which are collections of characteristics that encapsulate the behavior of part of a device. Each characteristic contains value fields.\n",
    "\n",
    "In our case, the **Heart Rate (0x180D)** service is used, which contains multiple characteristics such as *Heart Rate Measurement*, *Body Sensor Location* and *Heart Rate Control Point*. Of interest to us is the **Heart Rate Measurement** characteristic which holds the wanted value fields **Heart Rate Value** and **RR-Interval**. \n",
    "\n",
    "The packets are received and decoded as shown below (every second):\n",
    "![](https://github.com/scottbanyard/fortnite-hrv-analysis/img/hrpacket.png \"Bluetooth Packet for Heart Rate Measurement\")\n",
    "\n",
    "#### Heart Rate (HR) and RR Intervals\n",
    "\n",
    "HR is the average number of beats per minute (bpm). It doesn't require exact timings to each heart beat. For example, 60 bpm could mean 1 beat per second, or an average of 1 beat every 0.5s, 1.5s, 0.5s, 1.5s, ... and so on.\n",
    "\n",
    "RR intervals are the time difference between each successive heart beat. The image below shows a QRS complex (the ECG waveform that corresponds to the contraction of the ventricles), where an RR interval is shown as the interval between successive R peaks. RR intervals are useful because they allow us to calculate Heart Rate Variability (HRV) measures.\n",
    "\n",
    "![](https://github.com/scottbanyard/fortnite-hrv-analysis/img/rrinterval.png \"RR Interval\")\n",
    "\n",
    "#### Heart Rate Variability (HRV)\n",
    "\n",
    "Heart Rate Variability measures the changes in time between successive heart beats, where this time is normally measured in millseconds (ms) and is called the RR interval. A lower HRV tends to indicate stress from psychological events, exercise or other stressors. A higher HRV usually means that the body is healthy and has a strong ability to tolerate stress or recovers well from prior accumulated stress.\n",
    "\n",
    "There are time-domain and frequency-domain measures that exist to calculate HRV. This allows us to gain an insight and measure the functioning of the Autonomic Nervous System (ANS). The ANS has two branches; sympathetic (SNS) and parasympathetic (PNS). The former tends to be activated when the body goes into 'fight-or-flight' mode\n",
    "\n",
    "\n",
    "### Collected Data\n",
    "\n",
    "There are a few collected data files existing (or yet to be) that contain the HR and RR intervals for different Fortnite games. These can be loaded in and analysed."
   ]
  },
  {
   "cell_type": "code",
   "execution_count": null,
   "metadata": {
    "collapsed": true
   },
   "outputs": [],
   "source": []
  }
 ],
 "metadata": {
  "kernelspec": {
   "display_name": "Python 3",
   "language": "python",
   "name": "python3"
  },
  "language_info": {
   "codemirror_mode": {
    "name": "ipython",
    "version": 3
   },
   "file_extension": ".py",
   "mimetype": "text/x-python",
   "name": "python",
   "nbconvert_exporter": "python",
   "pygments_lexer": "ipython3",
   "version": "3.4.3"
  }
 },
 "nbformat": 4,
 "nbformat_minor": 0
}
